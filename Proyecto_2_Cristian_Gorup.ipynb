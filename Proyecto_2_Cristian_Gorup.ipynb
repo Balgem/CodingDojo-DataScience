{
  "nbformat": 4,
  "nbformat_minor": 0,
  "metadata": {
    "colab": {
      "provenance": [],
      "toc_visible": true,
      "authorship_tag": "ABX9TyOPx9v8bw3ZVYDDRS37/wQd",
      "include_colab_link": true
    },
    "kernelspec": {
      "name": "python3",
      "display_name": "Python 3"
    },
    "language_info": {
      "name": "python"
    }
  },
  "cells": [
    {
      "cell_type": "markdown",
      "metadata": {
        "id": "view-in-github",
        "colab_type": "text"
      },
      "source": [
        "<a href=\"https://colab.research.google.com/github/Balgem/CodingDojo-DataScience/blob/main/Proyecto_2_Cristian_Gorup.ipynb\" target=\"_parent\"><img src=\"https://colab.research.google.com/assets/colab-badge.svg\" alt=\"Open In Colab\"/></a>"
      ]
    },
    {
      "cell_type": "markdown",
      "source": [
        "# Fuente: https://www.kaggle.com/competitions/spaceship-titanic/data"
      ],
      "metadata": {
        "id": "L_OR6vA-Di4U"
      }
    },
    {
      "cell_type": "code",
      "source": [
        "from google.colab import drive\n",
        "drive.mount('/content/drive')"
      ],
      "metadata": {
        "colab": {
          "base_uri": "https://localhost:8080/"
        },
        "id": "rlB3OLiOhtV2",
        "outputId": "1fad0c23-055c-4aba-d349-00876b6c4665"
      },
      "execution_count": 1,
      "outputs": [
        {
          "output_type": "stream",
          "name": "stdout",
          "text": [
            "Mounted at /content/drive\n"
          ]
        }
      ]
    },
    {
      "cell_type": "code",
      "execution_count": 2,
      "metadata": {
        "id": "K_dFp8GPDh2v"
      },
      "outputs": [],
      "source": [
        "#bibliotecas\n",
        "import numpy as np\n",
        "import matplotlib.pyplot as plt\n",
        "import seaborn as sns\n",
        "import pandas as pd\n",
        "import numpy as np\n",
        "from sklearn.preprocessing import StandardScaler, OneHotEncoder\n",
        "from sklearn.impute import SimpleImputer\n",
        "from sklearn.compose import make_column_transformer, make_column_selector\n",
        "from sklearn.pipeline import make_pipeline\n",
        "from sklearn.model_selection import train_test_split\n",
        "from sklearn import set_config\n",
        "set_config(display='diagram')\n",
        "from sklearn.linear_model import LinearRegression,LogisticRegression\n",
        "from sklearn.metrics import r2_score\n",
        "from sklearn.metrics import mean_absolute_error\n",
        "from sklearn.metrics import mean_squared_error\n",
        "import statsmodels.api as sm\n",
        "from sklearn.tree import DecisionTreeRegressor, DecisionTreeClassifier\n",
        "from sklearn.ensemble import BaggingRegressor, RandomForestRegressor\n",
        "from sklearn.neighbors import KNeighborsClassifier"
      ]
    },
    {
      "cell_type": "code",
      "source": [
        "filename = '/content/drive/My Drive/Codificación_de_Dojo/Kaggle_space_titanic/test.csv'\n",
        "test  = pd.read_csv(filename)\n",
        "filename = '/content/drive/My Drive/Codificación_de_Dojo/Kaggle_space_titanic/train.csv'\n",
        "train  = pd.read_csv(filename)"
      ],
      "metadata": {
        "id": "eYhWwrkkMjmD"
      },
      "execution_count": 3,
      "outputs": []
    },
    {
      "cell_type": "code",
      "source": [
        "test.duplicated().sum()"
      ],
      "metadata": {
        "colab": {
          "base_uri": "https://localhost:8080/"
        },
        "id": "HQ2I3-pINpja",
        "outputId": "eae9fd68-7110-4cb8-e6d4-aca50305316f"
      },
      "execution_count": 4,
      "outputs": [
        {
          "output_type": "execute_result",
          "data": {
            "text/plain": [
              "0"
            ]
          },
          "metadata": {},
          "execution_count": 4
        }
      ]
    },
    {
      "cell_type": "code",
      "source": [
        "train.duplicated().sum()"
      ],
      "metadata": {
        "colab": {
          "base_uri": "https://localhost:8080/"
        },
        "id": "dVu_G_oMN2eE",
        "outputId": "e1dcf65a-9ab8-403d-cd51-91549b313930"
      },
      "execution_count": 5,
      "outputs": [
        {
          "output_type": "execute_result",
          "data": {
            "text/plain": [
              "0"
            ]
          },
          "metadata": {},
          "execution_count": 5
        }
      ]
    },
    {
      "cell_type": "code",
      "source": [
        "test.isna().sum()"
      ],
      "metadata": {
        "colab": {
          "base_uri": "https://localhost:8080/"
        },
        "id": "kF2pSaHXOCqO",
        "outputId": "c8e2c42b-6453-4c3b-ae4f-23ad1fbfabe4"
      },
      "execution_count": 6,
      "outputs": [
        {
          "output_type": "execute_result",
          "data": {
            "text/plain": [
              "PassengerId       0\n",
              "HomePlanet       87\n",
              "CryoSleep        93\n",
              "Cabin           100\n",
              "Destination      92\n",
              "Age              91\n",
              "VIP              93\n",
              "RoomService      82\n",
              "FoodCourt       106\n",
              "ShoppingMall     98\n",
              "Spa             101\n",
              "VRDeck           80\n",
              "Name             94\n",
              "dtype: int64"
            ]
          },
          "metadata": {},
          "execution_count": 6
        }
      ]
    },
    {
      "cell_type": "code",
      "source": [
        "train.isna().sum()"
      ],
      "metadata": {
        "id": "uPd9ze_QMu7d",
        "colab": {
          "base_uri": "https://localhost:8080/"
        },
        "outputId": "8d63ad7a-b313-45e0-9356-021b6da1ade3"
      },
      "execution_count": 7,
      "outputs": [
        {
          "output_type": "execute_result",
          "data": {
            "text/plain": [
              "PassengerId       0\n",
              "HomePlanet      201\n",
              "CryoSleep       217\n",
              "Cabin           199\n",
              "Destination     182\n",
              "Age             179\n",
              "VIP             203\n",
              "RoomService     181\n",
              "FoodCourt       183\n",
              "ShoppingMall    208\n",
              "Spa             183\n",
              "VRDeck          188\n",
              "Name            200\n",
              "Transported       0\n",
              "dtype: int64"
            ]
          },
          "metadata": {},
          "execution_count": 7
        }
      ]
    },
    {
      "cell_type": "code",
      "source": [
        "plt.subplots(1,2,figsize=(15, 5))\n",
        "plt.subplot(1,2,1)\n",
        "plt.imshow(train.isnull(),interpolation=\"nearest\", cmap=\"Blues\",aspect=\"auto\",)# vmin=0, vmax=1,cmap=\"Blues\")\n",
        "plt.xlabel(\"Columns of Train data\")\n",
        "plt.ylabel(\"Values index no of the Null values\")\n",
        "plt.title(\"Heatmap for the null values\")\n",
        "\n",
        "plt.subplot(1,2,2)\n",
        "train.isnull().mean().plot(kind=\"bar\", title=\"Mean of the Null values\", ylabel=\"Missing values Ratio\")\n",
        "plt.show()"
      ],
      "metadata": {
        "colab": {
          "base_uri": "https://localhost:8080/",
          "height": 393
        },
        "id": "OPpVCb-7NygE",
        "outputId": "ad390e49-dc97-45ea-b556-ea376b646a3f"
      },
      "execution_count": 8,
      "outputs": [
        {
          "output_type": "display_data",
          "data": {
            "text/plain": [
              "<Figure size 1080x360 with 2 Axes>"
            ],
            "image/png": "[encoded data removed]"
          },
          "metadata": {
            "needs_background": "light"
          }
        }
      ]
    },
    {
      "cell_type": "code",
      "source": [
        "test.describe()"
      ],
      "metadata": {
        "colab": {
          "base_uri": "https://localhost:8080/",
          "height": 300
        },
        "id": "Cf3YQiNLiL0U",
        "outputId": "078eaed4-1268-499f-bd93-e9d1ad807a6e"
      },
      "execution_count": 9,
      "outputs": [
        {
          "output_type": "execute_result",
          "data": {
            "text/plain": [
              "               Age   RoomService     FoodCourt  ShoppingMall           Spa  \\\n",
              "count  4186.000000   4195.000000   4171.000000   4179.000000   4176.000000   \n",
              "mean     28.658146    219.266269    439.484296    177.295525    303.052443   \n",
              "std      14.179072    607.011289   1527.663045    560.821123   1117.186015   \n",
              "min       0.000000      0.000000      0.000000      0.000000      0.000000   \n",
              "25%      19.000000      0.000000      0.000000      0.000000      0.000000   \n",
              "50%      26.000000      0.000000      0.000000      0.000000      0.000000   \n",
              "75%      37.000000     53.000000     78.000000     33.000000     50.000000   \n",
              "max      79.000000  11567.000000  25273.000000   8292.000000  19844.000000   \n",
              "\n",
              "             VRDeck  \n",
              "count   4197.000000  \n",
              "mean     310.710031  \n",
              "std     1246.994742  \n",
              "min        0.000000  \n",
              "25%        0.000000  \n",
              "50%        0.000000  \n",
              "75%       36.000000  \n",
              "max    22272.000000  "
            ],
            "text/html": [
              "\n",
              "  <div id=\"df-70eb07ed-4a23-4ade-b18f-99605367a08a\">\n",
              "    <div class=\"colab-df-container\">\n",
              "      <div>\n",
              "<style scoped>\n",
              "    .dataframe tbody tr th:only-of-type {\n",
              "        vertical-align: middle;\n",
              "    }\n",
              "\n",
              "    .dataframe tbody tr th {\n",
              "        vertical-align: top;\n",
              "    }\n",
              "\n",
              "    .dataframe thead th {\n",
              "        text-align: right;\n",
              "    }\n",
              "</style>\n",
              "<table border=\"1\" class=\"dataframe\">\n",
              "  <thead>\n",
              "    <tr style=\"text-align: right;\">\n",
              "      <th></th>\n",
              "      <th>Age</th>\n",
              "      <th>RoomService</th>\n",
              "      <th>FoodCourt</th>\n",
              "      <th>ShoppingMall</th>\n",
              "      <th>Spa</th>\n",
              "      <th>VRDeck</th>\n",
              "    </tr>\n",
              "  </thead>\n",
              "  <tbody>\n",
              "    <tr>\n",
              "      <th>count</th>\n",
              "      <td>4186.000000</td>\n",
              "      <td>4195.000000</td>\n",
              "      <td>4171.000000</td>\n",
              "      <td>4179.000000</td>\n",
              "      <td>4176.000000</td>\n",
              "      <td>4197.000000</td>\n",
              "    </tr>\n",
              "    <tr>\n",
              "      <th>mean</th>\n",
              "      <td>28.658146</td>\n",
              "      <td>219.266269</td>\n",
              "      <td>439.484296</td>\n",
              "      <td>177.295525</td>\n",
              "      <td>303.052443</td>\n",
              "      <td>310.710031</td>\n",
              "    </tr>\n",
              "    <tr>\n",
              "      <th>std</th>\n",
              "      <td>14.179072</td>\n",
              "      <td>607.011289</td>\n",
              "      <td>1527.663045</td>\n",
              "      <td>560.821123</td>\n",
              "      <td>1117.186015</td>\n",
              "      <td>1246.994742</td>\n",
              "    </tr>\n",
              "    <tr>\n",
              "      <th>min</th>\n",
              "      <td>0.000000</td>\n",
              "      <td>0.000000</td>\n",
              "      <td>0.000000</td>\n",
              "      <td>0.000000</td>\n",
              "      <td>0.000000</td>\n",
              "      <td>0.000000</td>\n",
              "    </tr>\n",
              "    <tr>\n",
              "      <th>25%</th>\n",
              "      <td>19.000000</td>\n",
              "      <td>0.000000</td>\n",
              "      <td>0.000000</td>\n",
              "      <td>0.000000</td>\n",
              "      <td>0.000000</td>\n",
              "      <td>0.000000</td>\n",
              "    </tr>\n",
              "    <tr>\n",
              "      <th>50%</th>\n",
              "      <td>26.000000</td>\n",
              "      <td>0.000000</td>\n",
              "      <td>0.000000</td>\n",
              "      <td>0.000000</td>\n",
              "      <td>0.000000</td>\n",
              "      <td>0.000000</td>\n",
              "    </tr>\n",
              "    <tr>\n",
              "      <th>75%</th>\n",
              "      <td>37.000000</td>\n",
              "      <td>53.000000</td>\n",
              "      <td>78.000000</td>\n",
              "      <td>33.000000</td>\n",
              "      <td>50.000000</td>\n",
              "      <td>36.000000</td>\n",
              "    </tr>\n",
              "    <tr>\n",
              "      <th>max</th>\n",
              "      <td>79.000000</td>\n",
              "      <td>11567.000000</td>\n",
              "      <td>25273.000000</td>\n",
              "      <td>8292.000000</td>\n",
              "      <td>19844.000000</td>\n",
              "      <td>22272.000000</td>\n",
              "    </tr>\n",
              "  </tbody>\n",
              "</table>\n",
              "</div>\n",
              "      <button class=\"colab-df-convert\" onclick=\"convertToInteractive('df-70eb07ed-4a23-4ade-b18f-99605367a08a')\"\n",
              "              title=\"Convert this dataframe to an interactive table.\"\n",
              "              style=\"display:none;\">\n",
              "        \n",
              "  <svg xmlns=\"http://www.w3.org/2000/svg\" height=\"24px\"viewBox=\"0 0 24 24\"\n",
              "       width=\"24px\">\n",
              "    <path d=\"M0 0h24v24H0V0z\" fill=\"none\"/>\n",
              "    <path d=\"M18.56 5.44l.94 2.06.94-2.06 2.06-.94-2.06-.94-.94-2.06-.94 2.06-2.06.94zm-11 1L8.5 8.5l.94-2.06 2.06-.94-2.06-.94L8.5 2.5l-.94 2.06-2.06.94zm10 10l.94 2.06.94-2.06 2.06-.94-2.06-.94-.94-2.06-.94 2.06-2.06.94z\"/><path d=\"M17.41 7.96l-1.37-1.37c-.4-.4-.92-.59-1.43-.59-.52 0-1.04.2-1.43.59L10.3 9.45l-7.72 7.72c-.78.78-.78 2.05 0 2.83L4 21.41c.39.39.9.59 1.41.59.51 0 1.02-.2 1.41-.59l7.78-7.78 2.81-2.81c.8-.78.8-2.07 0-2.86zM5.41 20L4 18.59l7.72-7.72 1.47 1.35L5.41 20z\"/>\n",
              "  </svg>\n",
              "      </button>\n",
              "      \n",
              "  <style>\n",
              "    .colab-df-container {\n",
              "      display:flex;\n",
              "      flex-wrap:wrap;\n",
              "      gap: 12px;\n",
              "    }\n",
              "\n",
              "    .colab-df-convert {\n",
              "      background-color: #E8F0FE;\n",
              "      border: none;\n",
              "      border-radius: 50%;\n",
              "      cursor: pointer;\n",
              "      display: none;\n",
              "      fill: #1967D2;\n",
              "      height: 32px;\n",
              "      padding: 0 0 0 0;\n",
              "      width: 32px;\n",
              "    }\n",
              "\n",
              "    .colab-df-convert:hover {\n",
              "      background-color: #E2EBFA;\n",
              "      box-shadow: 0px 1px 2px rgba(60, 64, 67, 0.3), 0px 1px 3px 1px rgba(60, 64, 67, 0.15);\n",
              "      fill: #174EA6;\n",
              "    }\n",
              "\n",
              "    [theme=dark] .colab-df-convert {\n",
              "      background-color: #3B4455;\n",
              "      fill: #D2E3FC;\n",
              "    }\n",
              "\n",
              "    [theme=dark] .colab-df-convert:hover {\n",
              "      background-color: #434B5C;\n",
              "      box-shadow: 0px 1px 3px 1px rgba(0, 0, 0, 0.15);\n",
              "      filter: drop-shadow(0px 1px 2px rgba(0, 0, 0, 0.3));\n",
              "      fill: #FFFFFF;\n",
              "    }\n",
              "  </style>\n",
              "\n",
              "      <script>\n",
              "        const buttonEl =\n",
              "          document.querySelector('#df-70eb07ed-4a23-4ade-b18f-99605367a08a button.colab-df-convert');\n",
              "        buttonEl.style.display =\n",
              "          google.colab.kernel.accessAllowed ? 'block' : 'none';\n",
              "\n",
              "        async function convertToInteractive(key) {\n",
              "          const element = document.querySelector('#df-70eb07ed-4a23-4ade-b18f-99605367a08a');\n",
              "          const dataTable =\n",
              "            await google.colab.kernel.invokeFunction('convertToInteractive',\n",
              "                                                     [key], {});\n",
              "          if (!dataTable) return;\n",
              "\n",
              "          const docLinkHtml = 'Like what you see? Visit the ' +\n",
              "            '<a target=\"_blank\" href=https://colab.research.google.com/notebooks/data_table.ipynb>data table notebook</a>'\n",
              "            + ' to learn more about interactive tables.';\n",
              "          element.innerHTML = '';\n",
              "          dataTable['output_type'] = 'display_data';\n",
              "          await google.colab.output.renderOutput(dataTable, element);\n",
              "          const docLink = document.createElement('div');\n",
              "          docLink.innerHTML = docLinkHtml;\n",
              "          element.appendChild(docLink);\n",
              "        }\n",
              "      </script>\n",
              "    </div>\n",
              "  </div>\n",
              "  "
            ]
          },
          "metadata": {},
          "execution_count": 9
        }
      ]
    },
    {
      "cell_type": "code",
      "source": [
        "train.dropna(inplace=True)"
      ],
      "metadata": {
        "id": "S6EeSPsEkLI-"
      },
      "execution_count": 24,
      "outputs": []
    },
    {
      "cell_type": "code",
      "source": [
        "test.dropna(inplace=True)"
      ],
      "metadata": {
        "id": "YIQ_LJY1kMOu"
      },
      "execution_count": 25,
      "outputs": []
    },
    {
      "cell_type": "markdown",
      "source": [
        "# Preprocesamiento de datos"
      ],
      "metadata": {
        "id": "jNlU6j2xOcGY"
      }
    },
    {
      "cell_type": "code",
      "source": [
        "test['Transported'] = 0"
      ],
      "metadata": {
        "id": "JlZ17ZcniOOK"
      },
      "execution_count": 26,
      "outputs": []
    },
    {
      "cell_type": "code",
      "source": [
        "X_train = train.drop(columns = 'Transported', axis=1)\n",
        "y_train = train['Transported']\n",
        "X_test = test.drop(columns = 'Transported', axis=1)\n",
        "y_test = test['Transported']"
      ],
      "metadata": {
        "id": "_UT4eqMKiaDl"
      },
      "execution_count": 27,
      "outputs": []
    },
    {
      "cell_type": "code",
      "source": [
        "cat_selector = make_column_selector(dtype_include='object')\n",
        "num_selector_int = make_column_selector(dtype_include='int')\n",
        "num_selector_float = make_column_selector(dtype_include='float')"
      ],
      "metadata": {
        "id": "eOuj194gReOC"
      },
      "execution_count": 28,
      "outputs": []
    },
    {
      "cell_type": "code",
      "source": [
        "ohe = OneHotEncoder(handle_unknown='ignore', sparse=False)"
      ],
      "metadata": {
        "id": "9wjewQaCQ4sm"
      },
      "execution_count": 29,
      "outputs": []
    },
    {
      "cell_type": "code",
      "source": [
        "categorical_pipe = make_pipeline(ohe)\n",
        "categorical_pipe"
      ],
      "metadata": {
        "colab": {
          "base_uri": "https://localhost:8080/",
          "height": 92
        },
        "id": "pBlByrOFigpd",
        "outputId": "519794af-0ad0-4219-9ac2-6a8ee711676a"
      },
      "execution_count": 30,
      "outputs": [
        {
          "output_type": "execute_result",
          "data": {
            "text/plain": [
              "Pipeline(steps=[('onehotencoder',\n",
              "                 OneHotEncoder(handle_unknown='ignore', sparse=False))])"
            ],
            "text/html": [
              "<style>#sk-8401001c-b73e-450e-9226-a77311e139ca {color: black;background-color: white;}#sk-8401001c-b73e-450e-9226-a77311e139ca pre{padding: 0;}#sk-8401001c-b73e-450e-9226-a77311e139ca div.sk-toggleable {background-color: white;}#sk-8401001c-b73e-450e-9226-a77311e139ca label.sk-toggleable__label {cursor: pointer;display: block;width: 100%;margin-bottom: 0;padding: 0.3em;box-sizing: border-box;text-align: center;}#sk-8401001c-b73e-450e-9226-a77311e139ca label.sk-toggleable__label-arrow:before {content: \"▸\";float: left;margin-right: 0.25em;color: #696969;}#sk-8401001c-b73e-450e-9226-a77311e139ca label.sk-toggleable__label-arrow:hover:before {color: black;}#sk-8401001c-b73e-450e-9226-a77311e139ca div.sk-estimator:hover label.sk-toggleable__label-arrow:before {color: black;}#sk-8401001c-b73e-450e-9226-a77311e139ca div.sk-toggleable__content {max-height: 0;max-width: 0;overflow: hidden;text-align: left;background-color: #f0f8ff;}#sk-8401001c-b73e-450e-9226-a77311e139ca div.sk-toggleable__content pre {margin: 0.2em;color: black;border-radius: 0.25em;background-color: #f0f8ff;}#sk-8401001c-b73e-450e-9226-a77311e139ca input.sk-toggleable__control:checked~div.sk-toggleable__content {max-height: 200px;max-width: 100%;overflow: auto;}#sk-8401001c-b73e-450e-9226-a77311e139ca input.sk-toggleable__control:checked~label.sk-toggleable__label-arrow:before {content: \"▾\";}#sk-8401001c-b73e-450e-9226-a77311e139ca div.sk-estimator input.sk-toggleable__control:checked~label.sk-toggleable__label {background-color: #d4ebff;}#sk-8401001c-b73e-450e-9226-a77311e139ca div.sk-label input.sk-toggleable__control:checked~label.sk-toggleable__label {background-color: #d4ebff;}#sk-8401001c-b73e-450e-9226-a77311e139ca input.sk-hidden--visually {border: 0;clip: rect(1px 1px 1px 1px);clip: rect(1px, 1px, 1px, 1px);height: 1px;margin: -1px;overflow: hidden;padding: 0;position: absolute;width: 1px;}#sk-8401001c-b73e-450e-9226-a77311e139ca div.sk-estimator {font-family: monospace;background-color: #f0f8ff;border: 1px dotted black;border-radius: 0.25em;box-sizing: border-box;margin-bottom: 0.5em;}#sk-8401001c-b73e-450e-9226-a77311e139ca div.sk-estimator:hover {background-color: #d4ebff;}#sk-8401001c-b73e-450e-9226-a77311e139ca div.sk-parallel-item::after {content: \"\";width: 100%;border-bottom: 1px solid gray;flex-grow: 1;}#sk-8401001c-b73e-450e-9226-a77311e139ca div.sk-label:hover label.sk-toggleable__label {background-color: #d4ebff;}#sk-8401001c-b73e-450e-9226-a77311e139ca div.sk-serial::before {content: \"\";position: absolute;border-left: 1px solid gray;box-sizing: border-box;top: 2em;bottom: 0;left: 50%;}#sk-8401001c-b73e-450e-9226-a77311e139ca div.sk-serial {display: flex;flex-direction: column;align-items: center;background-color: white;padding-right: 0.2em;padding-left: 0.2em;}#sk-8401001c-b73e-450e-9226-a77311e139ca div.sk-item {z-index: 1;}#sk-8401001c-b73e-450e-9226-a77311e139ca div.sk-parallel {display: flex;align-items: stretch;justify-content: center;background-color: white;}#sk-8401001c-b73e-450e-9226-a77311e139ca div.sk-parallel::before {content: \"\";position: absolute;border-left: 1px solid gray;box-sizing: border-box;top: 2em;bottom: 0;left: 50%;}#sk-8401001c-b73e-450e-9226-a77311e139ca div.sk-parallel-item {display: flex;flex-direction: column;position: relative;background-color: white;}#sk-8401001c-b73e-450e-9226-a77311e139ca div.sk-parallel-item:first-child::after {align-self: flex-end;width: 50%;}#sk-8401001c-b73e-450e-9226-a77311e139ca div.sk-parallel-item:last-child::after {align-self: flex-start;width: 50%;}#sk-8401001c-b73e-450e-9226-a77311e139ca div.sk-parallel-item:only-child::after {width: 0;}#sk-8401001c-b73e-450e-9226-a77311e139ca div.sk-dashed-wrapped {border: 1px dashed gray;margin: 0 0.4em 0.5em 0.4em;box-sizing: border-box;padding-bottom: 0.4em;background-color: white;position: relative;}#sk-8401001c-b73e-450e-9226-a77311e139ca div.sk-label label {font-family: monospace;font-weight: bold;background-color: white;display: inline-block;line-height: 1.2em;}#sk-8401001c-b73e-450e-9226-a77311e139ca div.sk-label-container {position: relative;z-index: 2;text-align: center;}#sk-8401001c-b73e-450e-9226-a77311e139ca div.sk-container {/* jupyter's `normalize.less` sets `[hidden] { display: none; }` but bootstrap.min.css set `[hidden] { display: none !important; }` so we also need the `!important` here to be able to override the default hidden behavior on the sphinx rendered scikit-learn.org. See: https://github.com/scikit-learn/scikit-learn/issues/21755 */display: inline-block !important;position: relative;}#sk-8401001c-b73e-450e-9226-a77311e139ca div.sk-text-repr-fallback {display: none;}</style><div id=\"sk-8401001c-b73e-450e-9226-a77311e139ca\" class=\"sk-top-container\"><div class=\"sk-text-repr-fallback\"><pre>Pipeline(steps=[(&#x27;onehotencoder&#x27;,\n",
              "                 OneHotEncoder(handle_unknown=&#x27;ignore&#x27;, sparse=False))])</pre><b>Please rerun this cell to show the HTML repr or trust the notebook.</b></div><div class=\"sk-container\" hidden><div class=\"sk-item sk-dashed-wrapped\"><div class=\"sk-label-container\"><div class=\"sk-label sk-toggleable\"><input class=\"sk-toggleable__control sk-hidden--visually\" id=\"6cef87e2-397f-4ee8-b5b3-8035e9854ee6\" type=\"checkbox\" ><label for=\"6cef87e2-397f-4ee8-b5b3-8035e9854ee6\" class=\"sk-toggleable__label sk-toggleable__label-arrow\">Pipeline</label><div class=\"sk-toggleable__content\"><pre>Pipeline(steps=[(&#x27;onehotencoder&#x27;,\n",
              "                 OneHotEncoder(handle_unknown=&#x27;ignore&#x27;, sparse=False))])</pre></div></div></div><div class=\"sk-serial\"><div class=\"sk-item\"><div class=\"sk-estimator sk-toggleable\"><input class=\"sk-toggleable__control sk-hidden--visually\" id=\"86dd0c03-cd7e-48e8-9020-20dbc5aa0f47\" type=\"checkbox\" ><label for=\"86dd0c03-cd7e-48e8-9020-20dbc5aa0f47\" class=\"sk-toggleable__label sk-toggleable__label-arrow\">OneHotEncoder</label><div class=\"sk-toggleable__content\"><pre>OneHotEncoder(handle_unknown=&#x27;ignore&#x27;, sparse=False)</pre></div></div></div></div></div></div></div>"
            ]
          },
          "metadata": {},
          "execution_count": 30
        }
      ]
    },
    {
      "cell_type": "code",
      "source": [
        "scaler = StandardScaler()"
      ],
      "metadata": {
        "id": "XX89jRoeiitX"
      },
      "execution_count": 31,
      "outputs": []
    },
    {
      "cell_type": "code",
      "source": [
        "numeric_pipe = make_pipeline(scaler)\n",
        "numeric_pipe"
      ],
      "metadata": {
        "colab": {
          "base_uri": "https://localhost:8080/",
          "height": 92
        },
        "id": "GY_NHniNi86W",
        "outputId": "0c99fe3a-71a6-47eb-a4ce-67a5c114a8cd"
      },
      "execution_count": 32,
      "outputs": [
        {
          "output_type": "execute_result",
          "data": {
            "text/plain": [
              "Pipeline(steps=[('standardscaler', StandardScaler())])"
            ],
            "text/html": [
              "<style>#sk-e0ba0042-03be-449b-af39-741bc07264c3 {color: black;background-color: white;}#sk-e0ba0042-03be-449b-af39-741bc07264c3 pre{padding: 0;}#sk-e0ba0042-03be-449b-af39-741bc07264c3 div.sk-toggleable {background-color: white;}#sk-e0ba0042-03be-449b-af39-741bc07264c3 label.sk-toggleable__label {cursor: pointer;display: block;width: 100%;margin-bottom: 0;padding: 0.3em;box-sizing: border-box;text-align: center;}#sk-e0ba0042-03be-449b-af39-741bc07264c3 label.sk-toggleable__label-arrow:before {content: \"▸\";float: left;margin-right: 0.25em;color: #696969;}#sk-e0ba0042-03be-449b-af39-741bc07264c3 label.sk-toggleable__label-arrow:hover:before {color: black;}#sk-e0ba0042-03be-449b-af39-741bc07264c3 div.sk-estimator:hover label.sk-toggleable__label-arrow:before {color: black;}#sk-e0ba0042-03be-449b-af39-741bc07264c3 div.sk-toggleable__content {max-height: 0;max-width: 0;overflow: hidden;text-align: left;background-color: #f0f8ff;}#sk-e0ba0042-03be-449b-af39-741bc07264c3 div.sk-toggleable__content pre {margin: 0.2em;color: black;border-radius: 0.25em;background-color: #f0f8ff;}#sk-e0ba0042-03be-449b-af39-741bc07264c3 input.sk-toggleable__control:checked~div.sk-toggleable__content {max-height: 200px;max-width: 100%;overflow: auto;}#sk-e0ba0042-03be-449b-af39-741bc07264c3 input.sk-toggleable__control:checked~label.sk-toggleable__label-arrow:before {content: \"▾\";}#sk-e0ba0042-03be-449b-af39-741bc07264c3 div.sk-estimator input.sk-toggleable__control:checked~label.sk-toggleable__label {background-color: #d4ebff;}#sk-e0ba0042-03be-449b-af39-741bc07264c3 div.sk-label input.sk-toggleable__control:checked~label.sk-toggleable__label {background-color: #d4ebff;}#sk-e0ba0042-03be-449b-af39-741bc07264c3 input.sk-hidden--visually {border: 0;clip: rect(1px 1px 1px 1px);clip: rect(1px, 1px, 1px, 1px);height: 1px;margin: -1px;overflow: hidden;padding: 0;position: absolute;width: 1px;}#sk-e0ba0042-03be-449b-af39-741bc07264c3 div.sk-estimator {font-family: monospace;background-color: #f0f8ff;border: 1px dotted black;border-radius: 0.25em;box-sizing: border-box;margin-bottom: 0.5em;}#sk-e0ba0042-03be-449b-af39-741bc07264c3 div.sk-estimator:hover {background-color: #d4ebff;}#sk-e0ba0042-03be-449b-af39-741bc07264c3 div.sk-parallel-item::after {content: \"\";width: 100%;border-bottom: 1px solid gray;flex-grow: 1;}#sk-e0ba0042-03be-449b-af39-741bc07264c3 div.sk-label:hover label.sk-toggleable__label {background-color: #d4ebff;}#sk-e0ba0042-03be-449b-af39-741bc07264c3 div.sk-serial::before {content: \"\";position: absolute;border-left: 1px solid gray;box-sizing: border-box;top: 2em;bottom: 0;left: 50%;}#sk-e0ba0042-03be-449b-af39-741bc07264c3 div.sk-serial {display: flex;flex-direction: column;align-items: center;background-color: white;padding-right: 0.2em;padding-left: 0.2em;}#sk-e0ba0042-03be-449b-af39-741bc07264c3 div.sk-item {z-index: 1;}#sk-e0ba0042-03be-449b-af39-741bc07264c3 div.sk-parallel {display: flex;align-items: stretch;justify-content: center;background-color: white;}#sk-e0ba0042-03be-449b-af39-741bc07264c3 div.sk-parallel::before {content: \"\";position: absolute;border-left: 1px solid gray;box-sizing: border-box;top: 2em;bottom: 0;left: 50%;}#sk-e0ba0042-03be-449b-af39-741bc07264c3 div.sk-parallel-item {display: flex;flex-direction: column;position: relative;background-color: white;}#sk-e0ba0042-03be-449b-af39-741bc07264c3 div.sk-parallel-item:first-child::after {align-self: flex-end;width: 50%;}#sk-e0ba0042-03be-449b-af39-741bc07264c3 div.sk-parallel-item:last-child::after {align-self: flex-start;width: 50%;}#sk-e0ba0042-03be-449b-af39-741bc07264c3 div.sk-parallel-item:only-child::after {width: 0;}#sk-e0ba0042-03be-449b-af39-741bc07264c3 div.sk-dashed-wrapped {border: 1px dashed gray;margin: 0 0.4em 0.5em 0.4em;box-sizing: border-box;padding-bottom: 0.4em;background-color: white;position: relative;}#sk-e0ba0042-03be-449b-af39-741bc07264c3 div.sk-label label {font-family: monospace;font-weight: bold;background-color: white;display: inline-block;line-height: 1.2em;}#sk-e0ba0042-03be-449b-af39-741bc07264c3 div.sk-label-container {position: relative;z-index: 2;text-align: center;}#sk-e0ba0042-03be-449b-af39-741bc07264c3 div.sk-container {/* jupyter's `normalize.less` sets `[hidden] { display: none; }` but bootstrap.min.css set `[hidden] { display: none !important; }` so we also need the `!important` here to be able to override the default hidden behavior on the sphinx rendered scikit-learn.org. See: https://github.com/scikit-learn/scikit-learn/issues/21755 */display: inline-block !important;position: relative;}#sk-e0ba0042-03be-449b-af39-741bc07264c3 div.sk-text-repr-fallback {display: none;}</style><div id=\"sk-e0ba0042-03be-449b-af39-741bc07264c3\" class=\"sk-top-container\"><div class=\"sk-text-repr-fallback\"><pre>Pipeline(steps=[(&#x27;standardscaler&#x27;, StandardScaler())])</pre><b>Please rerun this cell to show the HTML repr or trust the notebook.</b></div><div class=\"sk-container\" hidden><div class=\"sk-item sk-dashed-wrapped\"><div class=\"sk-label-container\"><div class=\"sk-label sk-toggleable\"><input class=\"sk-toggleable__control sk-hidden--visually\" id=\"e6a62cb8-2f17-41e1-aaf4-3ecefc1eb243\" type=\"checkbox\" ><label for=\"e6a62cb8-2f17-41e1-aaf4-3ecefc1eb243\" class=\"sk-toggleable__label sk-toggleable__label-arrow\">Pipeline</label><div class=\"sk-toggleable__content\"><pre>Pipeline(steps=[(&#x27;standardscaler&#x27;, StandardScaler())])</pre></div></div></div><div class=\"sk-serial\"><div class=\"sk-item\"><div class=\"sk-estimator sk-toggleable\"><input class=\"sk-toggleable__control sk-hidden--visually\" id=\"fa8ab410-dbd4-4b5e-97fb-94daa74f9c14\" type=\"checkbox\" ><label for=\"fa8ab410-dbd4-4b5e-97fb-94daa74f9c14\" class=\"sk-toggleable__label sk-toggleable__label-arrow\">StandardScaler</label><div class=\"sk-toggleable__content\"><pre>StandardScaler()</pre></div></div></div></div></div></div></div>"
            ]
          },
          "metadata": {},
          "execution_count": 32
        }
      ]
    },
    {
      "cell_type": "code",
      "source": [
        "number_tuple_int = (numeric_pipe, num_selector_int)\n",
        "number_tuple_float = (numeric_pipe, num_selector_float)\n",
        "category_tuple = (categorical_pipe, cat_selector)\n",
        "preprocessor = make_column_transformer(number_tuple_int, number_tuple_float, category_tuple)\n",
        "preprocessor"
      ],
      "metadata": {
        "colab": {
          "base_uri": "https://localhost:8080/",
          "height": 118
        },
        "id": "bLc7S1rCikcm",
        "outputId": "3ce8d797-b482-4770-b9f2-e064673218ea"
      },
      "execution_count": 33,
      "outputs": [
        {
          "output_type": "execute_result",
          "data": {
            "text/plain": [
              "ColumnTransformer(transformers=[('pipeline-1',\n",
              "                                 Pipeline(steps=[('standardscaler',\n",
              "                                                  StandardScaler())]),\n",
              "                                 <sklearn.compose._column_transformer.make_column_selector object at 0x7f287d51e160>),\n",
              "                                ('pipeline-2',\n",
              "                                 Pipeline(steps=[('standardscaler',\n",
              "                                                  StandardScaler())]),\n",
              "                                 <sklearn.compose._column_transformer.make_column_selector object at 0x7f2897175d00>),\n",
              "                                ('pipeline-3',\n",
              "                                 Pipeline(steps=[('onehotencoder',\n",
              "                                                  OneHotEncoder(handle_unknown='ignore',\n",
              "                                                                sparse=False))]),\n",
              "                                 <sklearn.compose._column_transformer.make_column_selector object at 0x7f287d51e2e0>)])"
            ],
            "text/html": [
              "<style>#sk-763cbb60-b552-4bf3-a16c-af18ded2fc90 {color: black;background-color: white;}#sk-763cbb60-b552-4bf3-a16c-af18ded2fc90 pre{padding: 0;}#sk-763cbb60-b552-4bf3-a16c-af18ded2fc90 div.sk-toggleable {background-color: white;}#sk-763cbb60-b552-4bf3-a16c-af18ded2fc90 label.sk-toggleable__label {cursor: pointer;display: block;width: 100%;margin-bottom: 0;padding: 0.3em;box-sizing: border-box;text-align: center;}#sk-763cbb60-b552-4bf3-a16c-af18ded2fc90 label.sk-toggleable__label-arrow:before {content: \"▸\";float: left;margin-right: 0.25em;color: #696969;}#sk-763cbb60-b552-4bf3-a16c-af18ded2fc90 label.sk-toggleable__label-arrow:hover:before {color: black;}#sk-763cbb60-b552-4bf3-a16c-af18ded2fc90 div.sk-estimator:hover label.sk-toggleable__label-arrow:before {color: black;}#sk-763cbb60-b552-4bf3-a16c-af18ded2fc90 div.sk-toggleable__content {max-height: 0;max-width: 0;overflow: hidden;text-align: left;background-color: #f0f8ff;}#sk-763cbb60-b552-4bf3-a16c-af18ded2fc90 div.sk-toggleable__content pre {margin: 0.2em;color: black;border-radius: 0.25em;background-color: #f0f8ff;}#sk-763cbb60-b552-4bf3-a16c-af18ded2fc90 input.sk-toggleable__control:checked~div.sk-toggleable__content {max-height: 200px;max-width: 100%;overflow: auto;}#sk-763cbb60-b552-4bf3-a16c-af18ded2fc90 input.sk-toggleable__control:checked~label.sk-toggleable__label-arrow:before {content: \"▾\";}#sk-763cbb60-b552-4bf3-a16c-af18ded2fc90 div.sk-estimator input.sk-toggleable__control:checked~label.sk-toggleable__label {background-color: #d4ebff;}#sk-763cbb60-b552-4bf3-a16c-af18ded2fc90 div.sk-label input.sk-toggleable__control:checked~label.sk-toggleable__label {background-color: #d4ebff;}#sk-763cbb60-b552-4bf3-a16c-af18ded2fc90 input.sk-hidden--visually {border: 0;clip: rect(1px 1px 1px 1px);clip: rect(1px, 1px, 1px, 1px);height: 1px;margin: -1px;overflow: hidden;padding: 0;position: absolute;width: 1px;}#sk-763cbb60-b552-4bf3-a16c-af18ded2fc90 div.sk-estimator {font-family: monospace;background-color: #f0f8ff;border: 1px dotted black;border-radius: 0.25em;box-sizing: border-box;margin-bottom: 0.5em;}#sk-763cbb60-b552-4bf3-a16c-af18ded2fc90 div.sk-estimator:hover {background-color: #d4ebff;}#sk-763cbb60-b552-4bf3-a16c-af18ded2fc90 div.sk-parallel-item::after {content: \"\";width: 100%;border-bottom: 1px solid gray;flex-grow: 1;}#sk-763cbb60-b552-4bf3-a16c-af18ded2fc90 div.sk-label:hover label.sk-toggleable__label {background-color: #d4ebff;}#sk-763cbb60-b552-4bf3-a16c-af18ded2fc90 div.sk-serial::before {content: \"\";position: absolute;border-left: 1px solid gray;box-sizing: border-box;top: 2em;bottom: 0;left: 50%;}#sk-763cbb60-b552-4bf3-a16c-af18ded2fc90 div.sk-serial {display: flex;flex-direction: column;align-items: center;background-color: white;padding-right: 0.2em;padding-left: 0.2em;}#sk-763cbb60-b552-4bf3-a16c-af18ded2fc90 div.sk-item {z-index: 1;}#sk-763cbb60-b552-4bf3-a16c-af18ded2fc90 div.sk-parallel {display: flex;align-items: stretch;justify-content: center;background-color: white;}#sk-763cbb60-b552-4bf3-a16c-af18ded2fc90 div.sk-parallel::before {content: \"\";position: absolute;border-left: 1px solid gray;box-sizing: border-box;top: 2em;bottom: 0;left: 50%;}#sk-763cbb60-b552-4bf3-a16c-af18ded2fc90 div.sk-parallel-item {display: flex;flex-direction: column;position: relative;background-color: white;}#sk-763cbb60-b552-4bf3-a16c-af18ded2fc90 div.sk-parallel-item:first-child::after {align-self: flex-end;width: 50%;}#sk-763cbb60-b552-4bf3-a16c-af18ded2fc90 div.sk-parallel-item:last-child::after {align-self: flex-start;width: 50%;}#sk-763cbb60-b552-4bf3-a16c-af18ded2fc90 div.sk-parallel-item:only-child::after {width: 0;}#sk-763cbb60-b552-4bf3-a16c-af18ded2fc90 div.sk-dashed-wrapped {border: 1px dashed gray;margin: 0 0.4em 0.5em 0.4em;box-sizing: border-box;padding-bottom: 0.4em;background-color: white;position: relative;}#sk-763cbb60-b552-4bf3-a16c-af18ded2fc90 div.sk-label label {font-family: monospace;font-weight: bold;background-color: white;display: inline-block;line-height: 1.2em;}#sk-763cbb60-b552-4bf3-a16c-af18ded2fc90 div.sk-label-container {position: relative;z-index: 2;text-align: center;}#sk-763cbb60-b552-4bf3-a16c-af18ded2fc90 div.sk-container {/* jupyter's `normalize.less` sets `[hidden] { display: none; }` but bootstrap.min.css set `[hidden] { display: none !important; }` so we also need the `!important` here to be able to override the default hidden behavior on the sphinx rendered scikit-learn.org. See: https://github.com/scikit-learn/scikit-learn/issues/21755 */display: inline-block !important;position: relative;}#sk-763cbb60-b552-4bf3-a16c-af18ded2fc90 div.sk-text-repr-fallback {display: none;}</style><div id=\"sk-763cbb60-b552-4bf3-a16c-af18ded2fc90\" class=\"sk-top-container\"><div class=\"sk-text-repr-fallback\"><pre>ColumnTransformer(transformers=[(&#x27;pipeline-1&#x27;,\n",
              "                                 Pipeline(steps=[(&#x27;standardscaler&#x27;,\n",
              "                                                  StandardScaler())]),\n",
              "                                 &lt;sklearn.compose._column_transformer.make_column_selector object at 0x7f287d51e160&gt;),\n",
              "                                (&#x27;pipeline-2&#x27;,\n",
              "                                 Pipeline(steps=[(&#x27;standardscaler&#x27;,\n",
              "                                                  StandardScaler())]),\n",
              "                                 &lt;sklearn.compose._column_transformer.make_column_selector object at 0x7f2897175d00&gt;),\n",
              "                                (&#x27;pipeline-3&#x27;,\n",
              "                                 Pipeline(steps=[(&#x27;onehotencoder&#x27;,\n",
              "                                                  OneHotEncoder(handle_unknown=&#x27;ignore&#x27;,\n",
              "                                                                sparse=False))]),\n",
              "                                 &lt;sklearn.compose._column_transformer.make_column_selector object at 0x7f287d51e2e0&gt;)])</pre><b>Please rerun this cell to show the HTML repr or trust the notebook.</b></div><div class=\"sk-container\" hidden><div class=\"sk-item sk-dashed-wrapped\"><div class=\"sk-label-container\"><div class=\"sk-label sk-toggleable\"><input class=\"sk-toggleable__control sk-hidden--visually\" id=\"dd89f7d9-9d17-4ebc-a69a-893cbf9202ab\" type=\"checkbox\" ><label for=\"dd89f7d9-9d17-4ebc-a69a-893cbf9202ab\" class=\"sk-toggleable__label sk-toggleable__label-arrow\">ColumnTransformer</label><div class=\"sk-toggleable__content\"><pre>ColumnTransformer(transformers=[(&#x27;pipeline-1&#x27;,\n",
              "                                 Pipeline(steps=[(&#x27;standardscaler&#x27;,\n",
              "                                                  StandardScaler())]),\n",
              "                                 &lt;sklearn.compose._column_transformer.make_column_selector object at 0x7f287d51e160&gt;),\n",
              "                                (&#x27;pipeline-2&#x27;,\n",
              "                                 Pipeline(steps=[(&#x27;standardscaler&#x27;,\n",
              "                                                  StandardScaler())]),\n",
              "                                 &lt;sklearn.compose._column_transformer.make_column_selector object at 0x7f2897175d00&gt;),\n",
              "                                (&#x27;pipeline-3&#x27;,\n",
              "                                 Pipeline(steps=[(&#x27;onehotencoder&#x27;,\n",
              "                                                  OneHotEncoder(handle_unknown=&#x27;ignore&#x27;,\n",
              "                                                                sparse=False))]),\n",
              "                                 &lt;sklearn.compose._column_transformer.make_column_selector object at 0x7f287d51e2e0&gt;)])</pre></div></div></div><div class=\"sk-parallel\"><div class=\"sk-parallel-item\"><div class=\"sk-item\"><div class=\"sk-label-container\"><div class=\"sk-label sk-toggleable\"><input class=\"sk-toggleable__control sk-hidden--visually\" id=\"b026a9cf-38d1-4822-b97b-a900d05c11ed\" type=\"checkbox\" ><label for=\"b026a9cf-38d1-4822-b97b-a900d05c11ed\" class=\"sk-toggleable__label sk-toggleable__label-arrow\">pipeline-1</label><div class=\"sk-toggleable__content\"><pre>&lt;sklearn.compose._column_transformer.make_column_selector object at 0x7f287d51e160&gt;</pre></div></div></div><div class=\"sk-serial\"><div class=\"sk-item\"><div class=\"sk-serial\"><div class=\"sk-item\"><div class=\"sk-estimator sk-toggleable\"><input class=\"sk-toggleable__control sk-hidden--visually\" id=\"cda94888-8e60-489d-a950-c82641f403c5\" type=\"checkbox\" ><label for=\"cda94888-8e60-489d-a950-c82641f403c5\" class=\"sk-toggleable__label sk-toggleable__label-arrow\">StandardScaler</label><div class=\"sk-toggleable__content\"><pre>StandardScaler()</pre></div></div></div></div></div></div></div></div><div class=\"sk-parallel-item\"><div class=\"sk-item\"><div class=\"sk-label-container\"><div class=\"sk-label sk-toggleable\"><input class=\"sk-toggleable__control sk-hidden--visually\" id=\"c2382529-967d-4d42-8fe4-23e8ef7972f7\" type=\"checkbox\" ><label for=\"c2382529-967d-4d42-8fe4-23e8ef7972f7\" class=\"sk-toggleable__label sk-toggleable__label-arrow\">pipeline-2</label><div class=\"sk-toggleable__content\"><pre>&lt;sklearn.compose._column_transformer.make_column_selector object at 0x7f2897175d00&gt;</pre></div></div></div><div class=\"sk-serial\"><div class=\"sk-item\"><div class=\"sk-serial\"><div class=\"sk-item\"><div class=\"sk-estimator sk-toggleable\"><input class=\"sk-toggleable__control sk-hidden--visually\" id=\"21839688-5ad6-45e4-9ba4-1c91b878f0e7\" type=\"checkbox\" ><label for=\"21839688-5ad6-45e4-9ba4-1c91b878f0e7\" class=\"sk-toggleable__label sk-toggleable__label-arrow\">StandardScaler</label><div class=\"sk-toggleable__content\"><pre>StandardScaler()</pre></div></div></div></div></div></div></div></div><div class=\"sk-parallel-item\"><div class=\"sk-item\"><div class=\"sk-label-container\"><div class=\"sk-label sk-toggleable\"><input class=\"sk-toggleable__control sk-hidden--visually\" id=\"130ebaca-ea61-4d02-bdf7-047ea22b11ed\" type=\"checkbox\" ><label for=\"130ebaca-ea61-4d02-bdf7-047ea22b11ed\" class=\"sk-toggleable__label sk-toggleable__label-arrow\">pipeline-3</label><div class=\"sk-toggleable__content\"><pre>&lt;sklearn.compose._column_transformer.make_column_selector object at 0x7f287d51e2e0&gt;</pre></div></div></div><div class=\"sk-serial\"><div class=\"sk-item\"><div class=\"sk-serial\"><div class=\"sk-item\"><div class=\"sk-estimator sk-toggleable\"><input class=\"sk-toggleable__control sk-hidden--visually\" id=\"c4448206-59bc-4ce0-8d67-32aeb11e04e1\" type=\"checkbox\" ><label for=\"c4448206-59bc-4ce0-8d67-32aeb11e04e1\" class=\"sk-toggleable__label sk-toggleable__label-arrow\">OneHotEncoder</label><div class=\"sk-toggleable__content\"><pre>OneHotEncoder(handle_unknown=&#x27;ignore&#x27;, sparse=False)</pre></div></div></div></div></div></div></div></div></div></div></div></div>"
            ]
          },
          "metadata": {},
          "execution_count": 33
        }
      ]
    },
    {
      "cell_type": "code",
      "source": [
        "preprocessor.fit(X_train)"
      ],
      "metadata": {
        "colab": {
          "base_uri": "https://localhost:8080/",
          "height": 118
        },
        "id": "FQG-m0Yjil5X",
        "outputId": "a34b3b93-3e4c-402c-9868-fd21dcecea68"
      },
      "execution_count": 34,
      "outputs": [
        {
          "output_type": "execute_result",
          "data": {
            "text/plain": [
              "ColumnTransformer(transformers=[('pipeline-1',\n",
              "                                 Pipeline(steps=[('standardscaler',\n",
              "                                                  StandardScaler())]),\n",
              "                                 <sklearn.compose._column_transformer.make_column_selector object at 0x7f287d51e160>),\n",
              "                                ('pipeline-2',\n",
              "                                 Pipeline(steps=[('standardscaler',\n",
              "                                                  StandardScaler())]),\n",
              "                                 <sklearn.compose._column_transformer.make_column_selector object at 0x7f2897175d00>),\n",
              "                                ('pipeline-3',\n",
              "                                 Pipeline(steps=[('onehotencoder',\n",
              "                                                  OneHotEncoder(handle_unknown='ignore',\n",
              "                                                                sparse=False))]),\n",
              "                                 <sklearn.compose._column_transformer.make_column_selector object at 0x7f287d51e2e0>)])"
            ],
            "text/html": [
              "<style>#sk-5b7a6ac0-1184-4bdd-8c9a-0e62d4707f77 {color: black;background-color: white;}#sk-5b7a6ac0-1184-4bdd-8c9a-0e62d4707f77 pre{padding: 0;}#sk-5b7a6ac0-1184-4bdd-8c9a-0e62d4707f77 div.sk-toggleable {background-color: white;}#sk-5b7a6ac0-1184-4bdd-8c9a-0e62d4707f77 label.sk-toggleable__label {cursor: pointer;display: block;width: 100%;margin-bottom: 0;padding: 0.3em;box-sizing: border-box;text-align: center;}#sk-5b7a6ac0-1184-4bdd-8c9a-0e62d4707f77 label.sk-toggleable__label-arrow:before {content: \"▸\";float: left;margin-right: 0.25em;color: #696969;}#sk-5b7a6ac0-1184-4bdd-8c9a-0e62d4707f77 label.sk-toggleable__label-arrow:hover:before {color: black;}#sk-5b7a6ac0-1184-4bdd-8c9a-0e62d4707f77 div.sk-estimator:hover label.sk-toggleable__label-arrow:before {color: black;}#sk-5b7a6ac0-1184-4bdd-8c9a-0e62d4707f77 div.sk-toggleable__content {max-height: 0;max-width: 0;overflow: hidden;text-align: left;background-color: #f0f8ff;}#sk-5b7a6ac0-1184-4bdd-8c9a-0e62d4707f77 div.sk-toggleable__content pre {margin: 0.2em;color: black;border-radius: 0.25em;background-color: #f0f8ff;}#sk-5b7a6ac0-1184-4bdd-8c9a-0e62d4707f77 input.sk-toggleable__control:checked~div.sk-toggleable__content {max-height: 200px;max-width: 100%;overflow: auto;}#sk-5b7a6ac0-1184-4bdd-8c9a-0e62d4707f77 input.sk-toggleable__control:checked~label.sk-toggleable__label-arrow:before {content: \"▾\";}#sk-5b7a6ac0-1184-4bdd-8c9a-0e62d4707f77 div.sk-estimator input.sk-toggleable__control:checked~label.sk-toggleable__label {background-color: #d4ebff;}#sk-5b7a6ac0-1184-4bdd-8c9a-0e62d4707f77 div.sk-label input.sk-toggleable__control:checked~label.sk-toggleable__label {background-color: #d4ebff;}#sk-5b7a6ac0-1184-4bdd-8c9a-0e62d4707f77 input.sk-hidden--visually {border: 0;clip: rect(1px 1px 1px 1px);clip: rect(1px, 1px, 1px, 1px);height: 1px;margin: -1px;overflow: hidden;padding: 0;position: absolute;width: 1px;}#sk-5b7a6ac0-1184-4bdd-8c9a-0e62d4707f77 div.sk-estimator {font-family: monospace;background-color: #f0f8ff;border: 1px dotted black;border-radius: 0.25em;box-sizing: border-box;margin-bottom: 0.5em;}#sk-5b7a6ac0-1184-4bdd-8c9a-0e62d4707f77 div.sk-estimator:hover {background-color: #d4ebff;}#sk-5b7a6ac0-1184-4bdd-8c9a-0e62d4707f77 div.sk-parallel-item::after {content: \"\";width: 100%;border-bottom: 1px solid gray;flex-grow: 1;}#sk-5b7a6ac0-1184-4bdd-8c9a-0e62d4707f77 div.sk-label:hover label.sk-toggleable__label {background-color: #d4ebff;}#sk-5b7a6ac0-1184-4bdd-8c9a-0e62d4707f77 div.sk-serial::before {content: \"\";position: absolute;border-left: 1px solid gray;box-sizing: border-box;top: 2em;bottom: 0;left: 50%;}#sk-5b7a6ac0-1184-4bdd-8c9a-0e62d4707f77 div.sk-serial {display: flex;flex-direction: column;align-items: center;background-color: white;padding-right: 0.2em;padding-left: 0.2em;}#sk-5b7a6ac0-1184-4bdd-8c9a-0e62d4707f77 div.sk-item {z-index: 1;}#sk-5b7a6ac0-1184-4bdd-8c9a-0e62d4707f77 div.sk-parallel {display: flex;align-items: stretch;justify-content: center;background-color: white;}#sk-5b7a6ac0-1184-4bdd-8c9a-0e62d4707f77 div.sk-parallel::before {content: \"\";position: absolute;border-left: 1px solid gray;box-sizing: border-box;top: 2em;bottom: 0;left: 50%;}#sk-5b7a6ac0-1184-4bdd-8c9a-0e62d4707f77 div.sk-parallel-item {display: flex;flex-direction: column;position: relative;background-color: white;}#sk-5b7a6ac0-1184-4bdd-8c9a-0e62d4707f77 div.sk-parallel-item:first-child::after {align-self: flex-end;width: 50%;}#sk-5b7a6ac0-1184-4bdd-8c9a-0e62d4707f77 div.sk-parallel-item:last-child::after {align-self: flex-start;width: 50%;}#sk-5b7a6ac0-1184-4bdd-8c9a-0e62d4707f77 div.sk-parallel-item:only-child::after {width: 0;}#sk-5b7a6ac0-1184-4bdd-8c9a-0e62d4707f77 div.sk-dashed-wrapped {border: 1px dashed gray;margin: 0 0.4em 0.5em 0.4em;box-sizing: border-box;padding-bottom: 0.4em;background-color: white;position: relative;}#sk-5b7a6ac0-1184-4bdd-8c9a-0e62d4707f77 div.sk-label label {font-family: monospace;font-weight: bold;background-color: white;display: inline-block;line-height: 1.2em;}#sk-5b7a6ac0-1184-4bdd-8c9a-0e62d4707f77 div.sk-label-container {position: relative;z-index: 2;text-align: center;}#sk-5b7a6ac0-1184-4bdd-8c9a-0e62d4707f77 div.sk-container {/* jupyter's `normalize.less` sets `[hidden] { display: none; }` but bootstrap.min.css set `[hidden] { display: none !important; }` so we also need the `!important` here to be able to override the default hidden behavior on the sphinx rendered scikit-learn.org. See: https://github.com/scikit-learn/scikit-learn/issues/21755 */display: inline-block !important;position: relative;}#sk-5b7a6ac0-1184-4bdd-8c9a-0e62d4707f77 div.sk-text-repr-fallback {display: none;}</style><div id=\"sk-5b7a6ac0-1184-4bdd-8c9a-0e62d4707f77\" class=\"sk-top-container\"><div class=\"sk-text-repr-fallback\"><pre>ColumnTransformer(transformers=[(&#x27;pipeline-1&#x27;,\n",
              "                                 Pipeline(steps=[(&#x27;standardscaler&#x27;,\n",
              "                                                  StandardScaler())]),\n",
              "                                 &lt;sklearn.compose._column_transformer.make_column_selector object at 0x7f287d51e160&gt;),\n",
              "                                (&#x27;pipeline-2&#x27;,\n",
              "                                 Pipeline(steps=[(&#x27;standardscaler&#x27;,\n",
              "                                                  StandardScaler())]),\n",
              "                                 &lt;sklearn.compose._column_transformer.make_column_selector object at 0x7f2897175d00&gt;),\n",
              "                                (&#x27;pipeline-3&#x27;,\n",
              "                                 Pipeline(steps=[(&#x27;onehotencoder&#x27;,\n",
              "                                                  OneHotEncoder(handle_unknown=&#x27;ignore&#x27;,\n",
              "                                                                sparse=False))]),\n",
              "                                 &lt;sklearn.compose._column_transformer.make_column_selector object at 0x7f287d51e2e0&gt;)])</pre><b>Please rerun this cell to show the HTML repr or trust the notebook.</b></div><div class=\"sk-container\" hidden><div class=\"sk-item sk-dashed-wrapped\"><div class=\"sk-label-container\"><div class=\"sk-label sk-toggleable\"><input class=\"sk-toggleable__control sk-hidden--visually\" id=\"fd9d2824-8561-47a9-a77a-8d7cdfce1b9f\" type=\"checkbox\" ><label for=\"fd9d2824-8561-47a9-a77a-8d7cdfce1b9f\" class=\"sk-toggleable__label sk-toggleable__label-arrow\">ColumnTransformer</label><div class=\"sk-toggleable__content\"><pre>ColumnTransformer(transformers=[(&#x27;pipeline-1&#x27;,\n",
              "                                 Pipeline(steps=[(&#x27;standardscaler&#x27;,\n",
              "                                                  StandardScaler())]),\n",
              "                                 &lt;sklearn.compose._column_transformer.make_column_selector object at 0x7f287d51e160&gt;),\n",
              "                                (&#x27;pipeline-2&#x27;,\n",
              "                                 Pipeline(steps=[(&#x27;standardscaler&#x27;,\n",
              "                                                  StandardScaler())]),\n",
              "                                 &lt;sklearn.compose._column_transformer.make_column_selector object at 0x7f2897175d00&gt;),\n",
              "                                (&#x27;pipeline-3&#x27;,\n",
              "                                 Pipeline(steps=[(&#x27;onehotencoder&#x27;,\n",
              "                                                  OneHotEncoder(handle_unknown=&#x27;ignore&#x27;,\n",
              "                                                                sparse=False))]),\n",
              "                                 &lt;sklearn.compose._column_transformer.make_column_selector object at 0x7f287d51e2e0&gt;)])</pre></div></div></div><div class=\"sk-parallel\"><div class=\"sk-parallel-item\"><div class=\"sk-item\"><div class=\"sk-label-container\"><div class=\"sk-label sk-toggleable\"><input class=\"sk-toggleable__control sk-hidden--visually\" id=\"25c08f79-3345-488d-93cd-e7b26bf50a49\" type=\"checkbox\" ><label for=\"25c08f79-3345-488d-93cd-e7b26bf50a49\" class=\"sk-toggleable__label sk-toggleable__label-arrow\">pipeline-1</label><div class=\"sk-toggleable__content\"><pre>&lt;sklearn.compose._column_transformer.make_column_selector object at 0x7f287d51e160&gt;</pre></div></div></div><div class=\"sk-serial\"><div class=\"sk-item\"><div class=\"sk-serial\"><div class=\"sk-item\"><div class=\"sk-estimator sk-toggleable\"><input class=\"sk-toggleable__control sk-hidden--visually\" id=\"40ce104e-7ea5-492c-9eed-827473490d84\" type=\"checkbox\" ><label for=\"40ce104e-7ea5-492c-9eed-827473490d84\" class=\"sk-toggleable__label sk-toggleable__label-arrow\">StandardScaler</label><div class=\"sk-toggleable__content\"><pre>StandardScaler()</pre></div></div></div></div></div></div></div></div><div class=\"sk-parallel-item\"><div class=\"sk-item\"><div class=\"sk-label-container\"><div class=\"sk-label sk-toggleable\"><input class=\"sk-toggleable__control sk-hidden--visually\" id=\"86484be0-9081-49b0-94ee-f8a911fce4ee\" type=\"checkbox\" ><label for=\"86484be0-9081-49b0-94ee-f8a911fce4ee\" class=\"sk-toggleable__label sk-toggleable__label-arrow\">pipeline-2</label><div class=\"sk-toggleable__content\"><pre>&lt;sklearn.compose._column_transformer.make_column_selector object at 0x7f2897175d00&gt;</pre></div></div></div><div class=\"sk-serial\"><div class=\"sk-item\"><div class=\"sk-serial\"><div class=\"sk-item\"><div class=\"sk-estimator sk-toggleable\"><input class=\"sk-toggleable__control sk-hidden--visually\" id=\"d89a5111-6b8a-49dc-b5c5-dd8482ce7133\" type=\"checkbox\" ><label for=\"d89a5111-6b8a-49dc-b5c5-dd8482ce7133\" class=\"sk-toggleable__label sk-toggleable__label-arrow\">StandardScaler</label><div class=\"sk-toggleable__content\"><pre>StandardScaler()</pre></div></div></div></div></div></div></div></div><div class=\"sk-parallel-item\"><div class=\"sk-item\"><div class=\"sk-label-container\"><div class=\"sk-label sk-toggleable\"><input class=\"sk-toggleable__control sk-hidden--visually\" id=\"e89216bd-17c7-4a1d-90a8-26b2d03055d4\" type=\"checkbox\" ><label for=\"e89216bd-17c7-4a1d-90a8-26b2d03055d4\" class=\"sk-toggleable__label sk-toggleable__label-arrow\">pipeline-3</label><div class=\"sk-toggleable__content\"><pre>&lt;sklearn.compose._column_transformer.make_column_selector object at 0x7f287d51e2e0&gt;</pre></div></div></div><div class=\"sk-serial\"><div class=\"sk-item\"><div class=\"sk-serial\"><div class=\"sk-item\"><div class=\"sk-estimator sk-toggleable\"><input class=\"sk-toggleable__control sk-hidden--visually\" id=\"d5c61faa-ba51-4c84-b583-13cc89934d3d\" type=\"checkbox\" ><label for=\"d5c61faa-ba51-4c84-b583-13cc89934d3d\" class=\"sk-toggleable__label sk-toggleable__label-arrow\">OneHotEncoder</label><div class=\"sk-toggleable__content\"><pre>OneHotEncoder(handle_unknown=&#x27;ignore&#x27;, sparse=False)</pre></div></div></div></div></div></div></div></div></div></div></div></div>"
            ]
          },
          "metadata": {},
          "execution_count": 34
        }
      ]
    },
    {
      "cell_type": "code",
      "source": [
        "X_train_processed = preprocessor.transform(X_train)\n",
        "X_test_processed = preprocessor.transform(X_test)"
      ],
      "metadata": {
        "id": "HE2muDVIjAvU"
      },
      "execution_count": 35,
      "outputs": []
    },
    {
      "cell_type": "code",
      "source": [
        "print(np.isnan(X_train_processed).sum().sum(), 'missing values in training data')\n",
        "print(np.isnan(X_test_processed).sum().sum(), 'missing values in testing data')\n",
        "print('\\n')\n",
        "print('All data in X_train_processed are', X_train_processed.dtype)\n",
        "print('All data in X_test_processed are', X_test_processed.dtype)\n",
        "print('\\n')\n",
        "print('shape of data is', X_train_processed.shape)\n",
        "print('\\n')\n",
        "print('shape of data is', X_test_processed.shape)"
      ],
      "metadata": {
        "colab": {
          "base_uri": "https://localhost:8080/"
        },
        "id": "cQfCssfMjEXQ",
        "outputId": "a1dd456e-7a79-476f-bcd4-a753bad0e331"
      },
      "execution_count": 36,
      "outputs": [
        {
          "output_type": "stream",
          "name": "stdout",
          "text": [
            "0 missing values in training data\n",
            "0 missing values in testing data\n",
            "\n",
            "\n",
            "All data in X_train_processed are float64\n",
            "All data in X_test_processed are float64\n",
            "\n",
            "\n",
            "shape of data is (6606, 18517)\n",
            "\n",
            "\n",
            "shape of data is (3281, 18517)\n"
          ]
        }
      ]
    },
    {
      "cell_type": "markdown",
      "source": [
        "## Modelos"
      ],
      "metadata": {
        "id": "fPR8tQDhjxIO"
      }
    },
    {
      "cell_type": "markdown",
      "source": [
        "### Regresión Lineal"
      ],
      "metadata": {
        "id": "3XOrUXZgj435"
      }
    },
    {
      "cell_type": "code",
      "source": [
        "reg = LinearRegression()"
      ],
      "metadata": {
        "id": "JqRsEqebjyHu"
      },
      "execution_count": 37,
      "outputs": []
    },
    {
      "cell_type": "code",
      "source": [
        "reg.fit(X_train_processed,y_train)"
      ],
      "metadata": {
        "colab": {
          "base_uri": "https://localhost:8080/",
          "height": 75
        },
        "id": "ebJGZIu8j73R",
        "outputId": "7c77140c-30c0-4111-9328-a3d6047d1072"
      },
      "execution_count": 38,
      "outputs": [
        {
          "output_type": "execute_result",
          "data": {
            "text/plain": [
              "LinearRegression()"
            ],
            "text/html": [
              "<style>#sk-ad91954e-72b7-454f-9680-8fcce2c7a05d {color: black;background-color: white;}#sk-ad91954e-72b7-454f-9680-8fcce2c7a05d pre{padding: 0;}#sk-ad91954e-72b7-454f-9680-8fcce2c7a05d div.sk-toggleable {background-color: white;}#sk-ad91954e-72b7-454f-9680-8fcce2c7a05d label.sk-toggleable__label {cursor: pointer;display: block;width: 100%;margin-bottom: 0;padding: 0.3em;box-sizing: border-box;text-align: center;}#sk-ad91954e-72b7-454f-9680-8fcce2c7a05d label.sk-toggleable__label-arrow:before {content: \"▸\";float: left;margin-right: 0.25em;color: #696969;}#sk-ad91954e-72b7-454f-9680-8fcce2c7a05d label.sk-toggleable__label-arrow:hover:before {color: black;}#sk-ad91954e-72b7-454f-9680-8fcce2c7a05d div.sk-estimator:hover label.sk-toggleable__label-arrow:before {color: black;}#sk-ad91954e-72b7-454f-9680-8fcce2c7a05d div.sk-toggleable__content {max-height: 0;max-width: 0;overflow: hidden;text-align: left;background-color: #f0f8ff;}#sk-ad91954e-72b7-454f-9680-8fcce2c7a05d div.sk-toggleable__content pre {margin: 0.2em;color: black;border-radius: 0.25em;background-color: #f0f8ff;}#sk-ad91954e-72b7-454f-9680-8fcce2c7a05d input.sk-toggleable__control:checked~div.sk-toggleable__content {max-height: 200px;max-width: 100%;overflow: auto;}#sk-ad91954e-72b7-454f-9680-8fcce2c7a05d input.sk-toggleable__control:checked~label.sk-toggleable__label-arrow:before {content: \"▾\";}#sk-ad91954e-72b7-454f-9680-8fcce2c7a05d div.sk-estimator input.sk-toggleable__control:checked~label.sk-toggleable__label {background-color: #d4ebff;}#sk-ad91954e-72b7-454f-9680-8fcce2c7a05d div.sk-label input.sk-toggleable__control:checked~label.sk-toggleable__label {background-color: #d4ebff;}#sk-ad91954e-72b7-454f-9680-8fcce2c7a05d input.sk-hidden--visually {border: 0;clip: rect(1px 1px 1px 1px);clip: rect(1px, 1px, 1px, 1px);height: 1px;margin: -1px;overflow: hidden;padding: 0;position: absolute;width: 1px;}#sk-ad91954e-72b7-454f-9680-8fcce2c7a05d div.sk-estimator {font-family: monospace;background-color: #f0f8ff;border: 1px dotted black;border-radius: 0.25em;box-sizing: border-box;margin-bottom: 0.5em;}#sk-ad91954e-72b7-454f-9680-8fcce2c7a05d div.sk-estimator:hover {background-color: #d4ebff;}#sk-ad91954e-72b7-454f-9680-8fcce2c7a05d div.sk-parallel-item::after {content: \"\";width: 100%;border-bottom: 1px solid gray;flex-grow: 1;}#sk-ad91954e-72b7-454f-9680-8fcce2c7a05d div.sk-label:hover label.sk-toggleable__label {background-color: #d4ebff;}#sk-ad91954e-72b7-454f-9680-8fcce2c7a05d div.sk-serial::before {content: \"\";position: absolute;border-left: 1px solid gray;box-sizing: border-box;top: 2em;bottom: 0;left: 50%;}#sk-ad91954e-72b7-454f-9680-8fcce2c7a05d div.sk-serial {display: flex;flex-direction: column;align-items: center;background-color: white;padding-right: 0.2em;padding-left: 0.2em;}#sk-ad91954e-72b7-454f-9680-8fcce2c7a05d div.sk-item {z-index: 1;}#sk-ad91954e-72b7-454f-9680-8fcce2c7a05d div.sk-parallel {display: flex;align-items: stretch;justify-content: center;background-color: white;}#sk-ad91954e-72b7-454f-9680-8fcce2c7a05d div.sk-parallel::before {content: \"\";position: absolute;border-left: 1px solid gray;box-sizing: border-box;top: 2em;bottom: 0;left: 50%;}#sk-ad91954e-72b7-454f-9680-8fcce2c7a05d div.sk-parallel-item {display: flex;flex-direction: column;position: relative;background-color: white;}#sk-ad91954e-72b7-454f-9680-8fcce2c7a05d div.sk-parallel-item:first-child::after {align-self: flex-end;width: 50%;}#sk-ad91954e-72b7-454f-9680-8fcce2c7a05d div.sk-parallel-item:last-child::after {align-self: flex-start;width: 50%;}#sk-ad91954e-72b7-454f-9680-8fcce2c7a05d div.sk-parallel-item:only-child::after {width: 0;}#sk-ad91954e-72b7-454f-9680-8fcce2c7a05d div.sk-dashed-wrapped {border: 1px dashed gray;margin: 0 0.4em 0.5em 0.4em;box-sizing: border-box;padding-bottom: 0.4em;background-color: white;position: relative;}#sk-ad91954e-72b7-454f-9680-8fcce2c7a05d div.sk-label label {font-family: monospace;font-weight: bold;background-color: white;display: inline-block;line-height: 1.2em;}#sk-ad91954e-72b7-454f-9680-8fcce2c7a05d div.sk-label-container {position: relative;z-index: 2;text-align: center;}#sk-ad91954e-72b7-454f-9680-8fcce2c7a05d div.sk-container {/* jupyter's `normalize.less` sets `[hidden] { display: none; }` but bootstrap.min.css set `[hidden] { display: none !important; }` so we also need the `!important` here to be able to override the default hidden behavior on the sphinx rendered scikit-learn.org. See: https://github.com/scikit-learn/scikit-learn/issues/21755 */display: inline-block !important;position: relative;}#sk-ad91954e-72b7-454f-9680-8fcce2c7a05d div.sk-text-repr-fallback {display: none;}</style><div id=\"sk-ad91954e-72b7-454f-9680-8fcce2c7a05d\" class=\"sk-top-container\"><div class=\"sk-text-repr-fallback\"><pre>LinearRegression()</pre><b>Please rerun this cell to show the HTML repr or trust the notebook.</b></div><div class=\"sk-container\" hidden><div class=\"sk-item\"><div class=\"sk-estimator sk-toggleable\"><input class=\"sk-toggleable__control sk-hidden--visually\" id=\"465eccfd-a5a8-4a46-b7cc-772808f92cc9\" type=\"checkbox\" checked><label for=\"465eccfd-a5a8-4a46-b7cc-772808f92cc9\" class=\"sk-toggleable__label sk-toggleable__label-arrow\">LinearRegression</label><div class=\"sk-toggleable__content\"><pre>LinearRegression()</pre></div></div></div></div></div>"
            ]
          },
          "metadata": {},
          "execution_count": 38
        }
      ]
    },
    {
      "cell_type": "code",
      "source": [
        "train_score = reg.score(X_train_processed, y_train)\n",
        "print(train_score)"
      ],
      "metadata": {
        "colab": {
          "base_uri": "https://localhost:8080/"
        },
        "id": "Ca1AMKu8j9nn",
        "outputId": "6fbfabb8-1600-4fb5-92a9-9f9a401079fb"
      },
      "execution_count": 39,
      "outputs": [
        {
          "output_type": "stream",
          "name": "stdout",
          "text": [
            "1.0\n"
          ]
        }
      ]
    },
    {
      "cell_type": "code",
      "source": [
        "train_preds_reg = reg.predict(X_train_processed)\n",
        "test_preds_reg = reg.predict(X_test_processed)"
      ],
      "metadata": {
        "id": "dcbQCHKpkjm0"
      },
      "execution_count": 40,
      "outputs": []
    },
    {
      "cell_type": "code",
      "source": [
        "r2_train = r2_score(y_train, train_preds_reg)\n",
        "r2_test = r2_score(y_test, test_preds_reg)"
      ],
      "metadata": {
        "id": "MkrMFv6HklE5"
      },
      "execution_count": 41,
      "outputs": []
    },
    {
      "cell_type": "code",
      "source": [
        "print('R^2 train es:', r2_train)\n",
        "print('\\n')\n",
        "print('R^2 test es:', r2_test)"
      ],
      "metadata": {
        "colab": {
          "base_uri": "https://localhost:8080/"
        },
        "id": "1d3QBmAHkmeS",
        "outputId": "e5648e44-7515-4ee1-963a-c80c40754581"
      },
      "execution_count": 45,
      "outputs": [
        {
          "output_type": "stream",
          "name": "stdout",
          "text": [
            "R^2 train es: 1.0\n",
            "\n",
            "\n",
            "R^2 test es: 0.0\n"
          ]
        }
      ]
    },
    {
      "cell_type": "code",
      "source": [
        "mae_train = mean_absolute_error(y_train, train_preds_reg)\n",
        "mae_test = mean_absolute_error(y_test, test_preds_reg)"
      ],
      "metadata": {
        "id": "kaVDrYm-koS2"
      },
      "execution_count": 43,
      "outputs": []
    },
    {
      "cell_type": "code",
      "source": [
        "print('MAE train es:', mae_train)\n",
        "print('\\n')\n",
        "print('MAE test es:', mae_test)"
      ],
      "metadata": {
        "colab": {
          "base_uri": "https://localhost:8080/"
        },
        "id": "SYRuVGBPkqz7",
        "outputId": "7d492b72-0f91-40e6-80e5-3284ab5e09f1"
      },
      "execution_count": 44,
      "outputs": [
        {
          "output_type": "stream",
          "name": "stdout",
          "text": [
            "MAE train es: 1.4006624769769897e-14\n",
            "\n",
            "\n",
            "MAE test es: 0.5171347823548873\n"
          ]
        }
      ]
    },
    {
      "cell_type": "code",
      "source": [
        "mse_train = mean_squared_error(y_train, train_preds_reg)\n",
        "mse_test = mean_squared_error(y_test, test_preds_reg)"
      ],
      "metadata": {
        "id": "AX5Gt50uks1m"
      },
      "execution_count": 46,
      "outputs": []
    },
    {
      "cell_type": "code",
      "source": [
        "print('MSE train es:', mse_train)\n",
        "print('\\n')\n",
        "print('MSE test es:', mse_test)"
      ],
      "metadata": {
        "colab": {
          "base_uri": "https://localhost:8080/"
        },
        "id": "hg7wWJ-RkunB",
        "outputId": "5a84dce4-9dd1-4f97-f4aa-b73dc2f1cf49"
      },
      "execution_count": 47,
      "outputs": [
        {
          "output_type": "stream",
          "name": "stdout",
          "text": [
            "MSE train es: 6.358664802215763e-28\n",
            "\n",
            "\n",
            "MSE test es: 0.3416401917254068\n"
          ]
        }
      ]
    },
    {
      "cell_type": "code",
      "source": [
        "rmse_train = np.sqrt(mean_squared_error(y_train, train_preds_reg))\n",
        "rmse_test = np.sqrt(mean_squared_error(y_test, test_preds_reg))"
      ],
      "metadata": {
        "id": "04IMQfJhkwwA"
      },
      "execution_count": 48,
      "outputs": []
    },
    {
      "cell_type": "code",
      "source": [
        "print('RMSE train es:', rmse_train)\n",
        "print('\\n')\n",
        "print('RMSE test es:', rmse_test)"
      ],
      "metadata": {
        "colab": {
          "base_uri": "https://localhost:8080/"
        },
        "id": "6_da2ktbk0S-",
        "outputId": "418b8c8c-93ee-4c27-d70a-6c5c9611fea1"
      },
      "execution_count": 49,
      "outputs": [
        {
          "output_type": "stream",
          "name": "stdout",
          "text": [
            "RMSE train es: 2.5216393085086065e-14\n",
            "\n",
            "\n",
            "RMSE test es: 0.5844999501500465\n"
          ]
        }
      ]
    },
    {
      "cell_type": "code",
      "source": [
        "model = sm.OLS(y_train, sm.add_constant(X_train_processed))\n",
        "results = model.fit()\n",
        "print(results.summary())"
      ],
      "metadata": {
        "id": "hmv8UIbXk1xC"
      },
      "execution_count": null,
      "outputs": []
    },
    {
      "cell_type": "markdown",
      "source": [
        "### Árboles de decisión"
      ],
      "metadata": {
        "id": "T-ltFM-ok4-9"
      }
    },
    {
      "cell_type": "code",
      "source": [
        "dec_tree = DecisionTreeRegressor(random_state = 42)"
      ],
      "metadata": {
        "id": "vIoq7cI1lCMS"
      },
      "execution_count": null,
      "outputs": []
    },
    {
      "cell_type": "code",
      "source": [
        "dec_tree.fit(X_train_processed, y_train)"
      ],
      "metadata": {
        "id": "3aQ0AwWLlFj_"
      },
      "execution_count": null,
      "outputs": []
    },
    {
      "cell_type": "code",
      "source": [
        "train_preds_tree = dec_tree.predict(X_train_processed)\n",
        "test_preds_tree = dec_tree.predict(X_test_processed)"
      ],
      "metadata": {
        "id": "u6avNcWHlHAJ"
      },
      "execution_count": null,
      "outputs": []
    },
    {
      "cell_type": "code",
      "source": [
        "train_score_tree = dec_tree.score(X_train_processed, y_train)\n",
        "test_score_tree = dec_tree.score(X_test_processed, y_test)\n",
        "print(train_score_tree)\n",
        "print(test_score_tree)"
      ],
      "metadata": {
        "id": "Jl-Ndv3rlIkk"
      },
      "execution_count": null,
      "outputs": []
    },
    {
      "cell_type": "markdown",
      "source": [
        "#### Ajustando Modelo"
      ],
      "metadata": {
        "id": "UzQIfDhFlKm1"
      }
    },
    {
      "cell_type": "code",
      "source": [
        "dec_tree.get_params()"
      ],
      "metadata": {
        "id": "fRbKwMhilMKm"
      },
      "execution_count": null,
      "outputs": []
    },
    {
      "cell_type": "code",
      "source": [
        "dec_tree.get_depth()"
      ],
      "metadata": {
        "id": "Hs8mHoFglNyL"
      },
      "execution_count": null,
      "outputs": []
    },
    {
      "cell_type": "code",
      "source": [
        "dec_tree_2 = DecisionTreeRegressor(max_depth = 1, random_state = 42)\n",
        "dec_tree_2.fit(X_train_processed, y_train)\n",
        "train_2_score = dec_tree_2.score(X_train_processed, y_train)\n",
        "test_2_score = dec_tree_2.score(X_test_processed, y_test)\n",
        "print(train_2_score)\n",
        "print(test_2_score)"
      ],
      "metadata": {
        "id": "drG7Op6qlQDM"
      },
      "execution_count": null,
      "outputs": []
    },
    {
      "cell_type": "code",
      "source": [
        "# Buscamos cual es la mejor \n",
        "max_depth_range = list(range(1, 4))\n",
        "\n",
        "r2 = []\n",
        "for depth in max_depth_range:\n",
        "    dec_tree = DecisionTreeRegressor(max_depth = depth, \n",
        "                             random_state = 42)\n",
        "    dec_tree.fit(X_train_processed, y_train)\n",
        "    score = dec_tree.score(X_test_processed, y_test)\n",
        "    r2.append(score)"
      ],
      "metadata": {
        "id": "uoiNdC12lSuW"
      },
      "execution_count": null,
      "outputs": []
    },
    {
      "cell_type": "code",
      "source": [
        "import matplotlib.pyplot as plt\n",
        "plt.plot(max_depth_range, r2)\n",
        "plt.xlabel('max_depth')\n",
        "plt.ylabel('R2');"
      ],
      "metadata": {
        "id": "mz_0cjmhlUCi"
      },
      "execution_count": null,
      "outputs": []
    },
    {
      "cell_type": "code",
      "source": [
        "dec_tree_2 = DecisionTreeRegressor(max_depth = 2, random_state = 42)\n",
        "dec_tree_2.fit(X_train_processed, y_train)\n",
        "train_2_score = dec_tree_2.score(X_train_processed, y_train)\n",
        "test_2_score = dec_tree_2.score(X_test_processed, y_test)\n",
        "print(train_2_score)\n",
        "print(test_2_score)"
      ],
      "metadata": {
        "id": "plOvj0RwlVdP"
      },
      "execution_count": null,
      "outputs": []
    },
    {
      "cell_type": "markdown",
      "source": [
        "### Bagged Tree"
      ],
      "metadata": {
        "id": "_tw9N30zlZc3"
      }
    },
    {
      "cell_type": "code",
      "source": [
        "bagreg = BaggingRegressor(random_state = 42)"
      ],
      "metadata": {
        "id": "9_e_5JwIlbNn"
      },
      "execution_count": null,
      "outputs": []
    },
    {
      "cell_type": "code",
      "source": [
        "bagreg.fit(X_train_processed, y_train)"
      ],
      "metadata": {
        "id": "9HknxRdxleYc"
      },
      "execution_count": null,
      "outputs": []
    },
    {
      "cell_type": "code",
      "source": [
        "bagreg.predict(X_test_processed)"
      ],
      "metadata": {
        "id": "WDO5cOdylf11"
      },
      "execution_count": null,
      "outputs": []
    },
    {
      "cell_type": "code",
      "source": [
        "bagreg_train_score = bagreg.score(X_train_processed, y_train)\n",
        "bagreg_test_score = bagreg.score(X_test_processed, y_test)\n",
        "print(bagreg_train_score)\n",
        "print(bagreg_test_score)"
      ],
      "metadata": {
        "id": "JOmfhQWJlhJV"
      },
      "execution_count": null,
      "outputs": []
    },
    {
      "cell_type": "markdown",
      "source": [
        "### Random Forest"
      ],
      "metadata": {
        "id": "AghwTF6vliwV"
      }
    },
    {
      "cell_type": "code",
      "source": [
        "rf = RandomForestRegressor(random_state = 42)"
      ],
      "metadata": {
        "id": "bA9Pbq3NlkNK"
      },
      "execution_count": null,
      "outputs": []
    },
    {
      "cell_type": "code",
      "source": [
        "rf.get_params()"
      ],
      "metadata": {
        "id": "bvXapd9ill1m"
      },
      "execution_count": null,
      "outputs": []
    },
    {
      "cell_type": "code",
      "source": [
        "rf.fit(X_train_processed, y_train)"
      ],
      "metadata": {
        "id": "Ly4mdt42loFD"
      },
      "execution_count": null,
      "outputs": []
    },
    {
      "cell_type": "code",
      "source": [
        "rf.predict(X_test_processed)"
      ],
      "metadata": {
        "id": "3A2pH5v7lpq0"
      },
      "execution_count": null,
      "outputs": []
    },
    {
      "cell_type": "code",
      "source": [
        "rf_train_score = rf.score(X_train_processed, y_train)\n",
        "rf_test_score = rf.score(X_test_processed, y_test)\n",
        "print(rf_train_score)\n",
        "print(rf_test_score)"
      ],
      "metadata": {
        "id": "W5O-nzyZlrGI"
      },
      "execution_count": null,
      "outputs": []
    },
    {
      "cell_type": "markdown",
      "source": [
        "### Desicion Tree Classifier"
      ],
      "metadata": {
        "id": "mSuri9rSluLG"
      }
    },
    {
      "cell_type": "code",
      "source": [
        "dec_tree_2 = DecisionTreeClassifier(random_state = 42, max_depth=3)"
      ],
      "metadata": {
        "id": "DC_nRp0il8aP"
      },
      "execution_count": null,
      "outputs": []
    },
    {
      "cell_type": "code",
      "source": [
        "dec_tree_2.get_params()"
      ],
      "metadata": {
        "id": "VW8Uv9OlmHwk"
      },
      "execution_count": null,
      "outputs": []
    },
    {
      "cell_type": "code",
      "source": [
        "dec_tree_2.fit(X_train_processed, y_train)"
      ],
      "metadata": {
        "id": "QJkKpuKgmJI1"
      },
      "execution_count": null,
      "outputs": []
    },
    {
      "cell_type": "code",
      "source": [
        "dec_tree_2.predict(X_test_processed)"
      ],
      "metadata": {
        "id": "bsu2VlfpmLGq"
      },
      "execution_count": null,
      "outputs": []
    },
    {
      "cell_type": "code",
      "source": [
        "train_score_2 = dec_tree_2.score(X_train_processed, y_train)\n",
        "test_score_2 = dec_tree_2.score(X_test_processed, y_test)\n",
        "print(train_score_2)\n",
        "print(test_score_2)"
      ],
      "metadata": {
        "id": "rAJamJsNmNZN"
      },
      "execution_count": null,
      "outputs": []
    },
    {
      "cell_type": "markdown",
      "source": [
        "### K Vecinos"
      ],
      "metadata": {
        "id": "ywblPJz_maSl"
      }
    },
    {
      "cell_type": "code",
      "source": [
        "knn = KNeighborsClassifier(n_neighbors=1)"
      ],
      "metadata": {
        "id": "N3yqNaZ3mchf"
      },
      "execution_count": null,
      "outputs": []
    },
    {
      "cell_type": "code",
      "source": [
        "knn.get_params()"
      ],
      "metadata": {
        "id": "voBCf7MPmexy"
      },
      "execution_count": null,
      "outputs": []
    },
    {
      "cell_type": "code",
      "source": [
        "knn_pipe = make_pipeline(scaler, knn)\n",
        "knn_pipe.fit(X_train_processed, y_train)"
      ],
      "metadata": {
        "id": "MhKVqhcimgJh"
      },
      "execution_count": null,
      "outputs": []
    },
    {
      "cell_type": "code",
      "source": [
        "predictions = knn_pipe.predict(X_test_processed)\n",
        "predictions"
      ],
      "metadata": {
        "id": "4Bw0aEX1mhsX"
      },
      "execution_count": null,
      "outputs": []
    },
    {
      "cell_type": "code",
      "source": [
        "acc_score = knn_pipe.score(X_test_processed, y_test)\n",
        "acc_score"
      ],
      "metadata": {
        "id": "jI3bMV4mmjBt"
      },
      "execution_count": null,
      "outputs": []
    },
    {
      "cell_type": "markdown",
      "source": [
        "### Regresión Logistica"
      ],
      "metadata": {
        "id": "BToZG0kbmpO_"
      }
    },
    {
      "cell_type": "code",
      "source": [
        "logreg = LogisticRegression(C = 32)\n",
        "logreg_pipe = make_pipeline(scaler, logreg) \n",
        "logreg_pipe.fit(X_train_processed,y_train)"
      ],
      "metadata": {
        "id": "mlEOBCfCmrvm"
      },
      "execution_count": null,
      "outputs": []
    },
    {
      "cell_type": "code",
      "source": [
        "logreg.score(X_train_processed,y_train)"
      ],
      "metadata": {
        "id": "Wa4yAtRomuJy"
      },
      "execution_count": null,
      "outputs": []
    }
  ]
}