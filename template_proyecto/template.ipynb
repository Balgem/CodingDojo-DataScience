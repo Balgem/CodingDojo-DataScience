{
 "cells": [
  {
   "cell_type": "markdown",
   "id": "ac2411dd",
   "metadata": {},
   "source": [
    "# Examen de Cinturón\n",
    "\n",
    "## Datos Personales\n",
    "\n",
    "* **Nombre Completo**: Francisco Alfaro Medina\n",
    "* **ID Coding Dojo**: 00001\n",
    "* **Track**: Data Science Fundamentals\n",
    "* **Nombre del examen**: Employee Attrition\n",
    "* **Intento**: 1\n",
    "\n",
    "## Descripción del Problema\n",
    "\n",
    "Your task is to clean and explore a dataset for HR executives that describes trends in their employee data related to attrition. A data dictionary can be found at the bottom of this page...\n",
    "\n",
    "### Descripción del Conjunto de Datos\n",
    "\n",
    "| Column Name    | Data Type | Description                                                                               |\n",
    "|----------------|-----------|-------------------------------------------------------------------------------------------|\n",
    "| Age            | int       | Age of employee                                                                           |\n",
    "| Attrition      | Object    | Employee leaving the company (no or yes)                                                  |\n",
    "| BusinessTravel | Object    | How much the employee travels for work (no travel, travels frequently, or travels rarely) |\n",
    "\n",
    "> **Nota**: utilizar [Tables Generator](https://www.tablesgenerator.com/markdown_tables) para generar tablas en markdown.\n"
   ]
  },
  {
   "cell_type": "markdown",
   "id": "3e9881ed",
   "metadata": {},
   "source": [
    "## Solución\n",
    "\n",
    "## I.- Análisis Exploratorio"
   ]
  },
  {
   "cell_type": "markdown",
   "id": "0d33c194",
   "metadata": {},
   "source": [
    "### Manipulación de datos"
   ]
  },
  {
   "cell_type": "code",
   "execution_count": null,
   "id": "4bd925b0",
   "metadata": {},
   "outputs": [],
   "source": [
    "# solucion"
   ]
  },
  {
   "cell_type": "markdown",
   "id": "c38ad5bc",
   "metadata": {},
   "source": [
    "### Visualizaciones"
   ]
  },
  {
   "cell_type": "code",
   "execution_count": null,
   "id": "860248a3",
   "metadata": {},
   "outputs": [],
   "source": [
    "# solucion"
   ]
  },
  {
   "cell_type": "markdown",
   "id": "95104a97",
   "metadata": {},
   "source": [
    "## II.- Modelos\n"
   ]
  },
  {
   "cell_type": "code",
   "execution_count": null,
   "id": "e68addaf",
   "metadata": {},
   "outputs": [],
   "source": [
    "# solucion"
   ]
  },
  {
   "cell_type": "markdown",
   "id": "1cef4cc0",
   "metadata": {},
   "source": [
    "## Conclusiones\n",
    "\n",
    "* Conclusión 01\n",
    "* Conclusión 02\n",
    "* ...\n"
   ]
  },
  {
   "cell_type": "markdown",
   "id": "f88adc24",
   "metadata": {},
   "source": [
    "## Referencias\n",
    "\n",
    "* [Curso MAT281_2022](https://github.com/fralfaro/MAT281_2022)\n",
    "* [Curso MAT281_2022](https://github.com/fralfaro/CodingDojo-DataScience)"
   ]
  }
 ],
 "metadata": {
  "kernelspec": {
   "display_name": "Python 3 (ipykernel)",
   "language": "python",
   "name": "python3"
  },
  "language_info": {
   "codemirror_mode": {
    "name": "ipython",
    "version": 3
   },
   "file_extension": ".py",
   "mimetype": "text/x-python",
   "name": "python",
   "nbconvert_exporter": "python",
   "pygments_lexer": "ipython3",
   "version": "3.8.5"
  }
 },
 "nbformat": 4,
 "nbformat_minor": 5
}
